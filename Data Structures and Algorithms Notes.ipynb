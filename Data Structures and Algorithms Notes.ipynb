{
 "cells": [
  {
   "cell_type": "markdown",
   "metadata": {},
   "source": [
    "# Why Data Structures? \n",
    " - Data Structures differentiate mediocre / avergae programmers from incredible ones - the code is most efficient when the programmer knows which data structure to use. \n"
   ]
  },
  {
   "cell_type": "markdown",
   "metadata": {},
   "source": [
    "# Abstract Data Types"
   ]
  },
  {
   "cell_type": "markdown",
   "metadata": {},
   "source": [
    "an Abstract Data Type (ADT) is abstraction of the data Structure (DS) that provides only the *interface* of the structure (what you must implement if creating one. \n",
    "\n",
    "examples:\n",
    "- ADT: List , DS Implemetation: Dynamic Array, Linked List\n",
    "- ADT: Queue, DS Implementation: Linked List Based Queue, Array based queue, Stack based queeu\n",
    "- ADT: Map, DS Implementation: Tree Map, Hash Map, Hash Table"
   ]
  },
  {
   "cell_type": "markdown",
   "metadata": {},
   "source": [
    "# Big - O Overview"
   ]
  },
  {
   "cell_type": "markdown",
   "metadata": {},
   "source": [
    "#### *Time* : \n",
    "* Big O Notation gives an upper bound of run time in the worst case, even as input size becomes large. \n",
    "* because of case when large input, ignore multiplicative constants in calculation. \n",
    "    - $O(n+c) = O(n)$\n",
    "    - $O(cn) = O(n), c > 0$\n",
    "    - if run time function is $$f(n) = 7log(n)^3 + 15n^2 + 2n^3 + 8$$ then \"Big O\" of $f(n)$ is $$f(n) = O(n^3)$$\n"
   ]
  },
  {
   "cell_type": "code",
   "execution_count": 6,
   "metadata": {},
   "outputs": [],
   "source": [
    "# o(1) example\n",
    "# does NOT depend on input size. \n",
    "a = 1\n",
    "b = 2\n",
    "c = a + 3*b\n",
    "i = 0\n",
    "\n",
    "while i < 11:\n",
    "    i = i + 1"
   ]
  },
  {
   "cell_type": "markdown",
   "metadata": {},
   "source": [
    "In this next ex, $f(n) = n$, and $O(n) = O(n)$"
   ]
  },
  {
   "cell_type": "code",
   "execution_count": 7,
   "metadata": {},
   "outputs": [],
   "source": [
    "# O(n) example\n",
    "# runs in linear time at worst time.\n",
    "n = 100 # input size - variable\n",
    "i = 0 \n",
    "while i < n:\n",
    "    i = i + 1\n"
   ]
  },
  {
   "cell_type": "markdown",
   "metadata": {},
   "source": [
    "In this next ex, $f(n) = n / 3$ (think why), and $O(n) = O(n)$, since we ignoe multiplicative constants for big O. "
   ]
  },
  {
   "cell_type": "code",
   "execution_count": 2,
   "metadata": {
    "ExecuteTime": {
     "end_time": "2020-08-23T23:57:36.364688Z",
     "start_time": "2020-08-23T23:57:36.356688Z"
    }
   },
   "outputs": [],
   "source": [
    "# O(n) example\n",
    "# runs in linear time at worst time.\n",
    "n = 100 # input size - variable\n",
    "i = 0 \n",
    "while i < n:\n",
    "    i = i + 3"
   ]
  },
  {
   "cell_type": "markdown",
   "metadata": {},
   "source": [
    "Remember to drop multiplicative constants, here is a situation where it is tempting not to, but you shoud:\n",
    "The following two code snippets run in $O(n)$"
   ]
  },
  {
   "cell_type": "code",
   "execution_count": 1,
   "metadata": {
    "ExecuteTime": {
     "end_time": "2020-08-23T23:57:30.218525Z",
     "start_time": "2020-08-23T23:57:30.210524Z"
    }
   },
   "outputs": [],
   "source": [
    "# min and max 1 \n",
    "import sys\n",
    "\n",
    "arr = [1,2,3,4,5] # n = 5, input array\n",
    "\n",
    "max = sys.maxsize # maximum sequence length in python - analog to Interger.MAX_SIZE\n",
    "min = -sys.maxsize - 1 # minimum negative integer in Python\n",
    "\n",
    "for x in arr:\n",
    "    if x > max:\n",
    "        max = x\n",
    "        \n",
    "for x in arr:\n",
    "    if x < min:\n",
    "        min = x"
   ]
  },
  {
   "cell_type": "code",
   "execution_count": 3,
   "metadata": {
    "ExecuteTime": {
     "end_time": "2020-08-23T23:58:15.766616Z",
     "start_time": "2020-08-23T23:58:15.758631Z"
    }
   },
   "outputs": [],
   "source": [
    "# min and max 1 \n",
    "import sys\n",
    "\n",
    "arr = [1,2,3,4,5] # n = 5, input array\n",
    "\n",
    "max = sys.maxsize # maximum sequence length in python - analog to Interger.MAX_SIZE\n",
    "min = -sys.maxsize - 1 # minimum negative integer in Python\n",
    "\n",
    "for x in arr:\n",
    "    if x > max:\n",
    "        max = x\n",
    "    if x < min:\n",
    "        min = x\n",
    "        "
   ]
  },
  {
   "cell_type": "markdown",
   "metadata": {},
   "source": [
    "### Amortized Time\n",
    "- Amortized time is the runtime describing a data structure that has a very \"bad\" run time every once in a while, but a different (better) run time in every other case. \n",
    "- Example of amortized time: an arrayList is a dynamically resizing array, so whenever it runs out of space, it creates a new array with twice the length of the current array. That means that every so often, adding an element to the ArrayLust takes $O(n)$ time, since it has to copy all n elements over to the new array. But the amortized time is $O(1)$ for appending an element to an ArrayList. "
   ]
  },
  {
   "cell_type": "markdown",
   "metadata": {},
   "source": [
    "### Recursive Runtimes\n"
   ]
  },
  {
   "cell_type": "markdown",
   "metadata": {},
   "source": [
    "Ex: What is the runtime of this code snippet?"
   ]
  },
  {
   "cell_type": "code",
   "execution_count": null,
   "metadata": {},
   "outputs": [],
   "source": [
    "n = 1000 # initial input\n",
    "\n",
    "f(n):\n",
    "    if n < 1:\n",
    "        return 1\n",
    "    return f(n - 1) + f(n - 1)\n",
    "    "
   ]
  },
  {
   "cell_type": "markdown",
   "metadata": {},
   "source": [
    "# Arrays :"
   ]
  },
  {
   "cell_type": "markdown",
   "metadata": {},
   "source": [
    "### Dynamic and Static Arrays"
   ]
  },
  {
   "cell_type": "markdown",
   "metadata": {},
   "source": [
    "### Dynamic Array Code"
   ]
  },
  {
   "cell_type": "markdown",
   "metadata": {},
   "source": [
    "# Linked Lists :"
   ]
  },
  {
   "cell_type": "markdown",
   "metadata": {},
   "source": [
    "### Linked Lists Intro"
   ]
  },
  {
   "cell_type": "markdown",
   "metadata": {},
   "source": [
    "### Doubly Linked List Code"
   ]
  },
  {
   "cell_type": "markdown",
   "metadata": {},
   "source": [
    "# Stack :"
   ]
  },
  {
   "cell_type": "markdown",
   "metadata": {},
   "source": [
    "### Stack Introduction"
   ]
  },
  {
   "cell_type": "markdown",
   "metadata": {},
   "source": [
    "### Stack Implementation"
   ]
  },
  {
   "cell_type": "markdown",
   "metadata": {},
   "source": [
    "### Stack Code"
   ]
  },
  {
   "cell_type": "markdown",
   "metadata": {},
   "source": [
    "# Queues :"
   ]
  },
  {
   "cell_type": "markdown",
   "metadata": {},
   "source": [
    "### Queue Introduction"
   ]
  },
  {
   "cell_type": "markdown",
   "metadata": {},
   "source": [
    "### Queue Code"
   ]
  },
  {
   "cell_type": "markdown",
   "metadata": {},
   "source": [
    "### Priority Queue Introduction"
   ]
  },
  {
   "cell_type": "markdown",
   "metadata": {},
   "source": [
    "### Priority Queve Min Heaps and Max Heaps"
   ]
  },
  {
   "cell_type": "markdown",
   "metadata": {},
   "source": [
    "### Priority Queue Inserting Elements"
   ]
  },
  {
   "cell_type": "markdown",
   "metadata": {},
   "source": [
    "### Priority Queue Removing Elemets"
   ]
  },
  {
   "cell_type": "markdown",
   "metadata": {},
   "source": [
    "### Priority Queue Code"
   ]
  },
  {
   "cell_type": "markdown",
   "metadata": {},
   "source": [
    "# Union Find : "
   ]
  },
  {
   "cell_type": "markdown",
   "metadata": {},
   "source": [
    "### Union Find Introduction"
   ]
  },
  {
   "cell_type": "markdown",
   "metadata": {},
   "source": [
    "### Union Find Kruskal's Algorithm"
   ]
  },
  {
   "cell_type": "markdown",
   "metadata": {},
   "source": [
    "### Union Find - Union Find Operations"
   ]
  },
  {
   "cell_type": "markdown",
   "metadata": {},
   "source": [
    "### Union Find Path Compression"
   ]
  },
  {
   "cell_type": "code",
   "execution_count": null,
   "metadata": {},
   "outputs": [],
   "source": []
  }
 ],
 "metadata": {
  "kernelspec": {
   "display_name": "Python 3",
   "language": "python",
   "name": "python3"
  },
  "language_info": {
   "codemirror_mode": {
    "name": "ipython",
    "version": 3
   },
   "file_extension": ".py",
   "mimetype": "text/x-python",
   "name": "python",
   "nbconvert_exporter": "python",
   "pygments_lexer": "ipython3",
   "version": "3.8.3"
  }
 },
 "nbformat": 4,
 "nbformat_minor": 4
}
