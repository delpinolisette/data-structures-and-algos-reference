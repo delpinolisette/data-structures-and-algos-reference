{
 "cells": [
  {
   "cell_type": "markdown",
   "metadata": {},
   "source": [
    "# Why Data Structures? \n",
    " - Data Structures differentiate mediocre / avergae programmers from incredible ones - the code is most efficient when the programmer knows which data structure to use. \n"
   ]
  },
  {
   "cell_type": "markdown",
   "metadata": {},
   "source": [
    "# Abstract Data Types"
   ]
  },
  {
   "cell_type": "markdown",
   "metadata": {},
   "source": [
    "an Abstract Data Type (ADT) is abstraction of the data Structure (DS) that provides only the *interface* of the structure (what you must implement if creating one. \n",
    "\n",
    "examples:\n",
    "- ADT: List , DS Implemetation: Dynamic Array, Linked List\n",
    "- ADT: Queue, DS Implementation: Linked List Based Queue, Array based queue, Stack based queeu\n",
    "- ADT: Map, DS Implementation: Tree Map, Hash Map, Hash Table"
   ]
  },
  {
   "cell_type": "markdown",
   "metadata": {},
   "source": [
    "# Big - O Overview"
   ]
  },
  {
   "cell_type": "markdown",
   "metadata": {},
   "source": [
    "#### *Time* : \n",
    "* Big O Notation gives an upper bound of run time in the worst case, even as input size becomes large. \n",
    "* because of case when large input, ignore multiplicative constants in calculation. \n",
    "    - $O(n+c) = O(n)$\n",
    "    - $O(cn) = O(n), c > 0$\n",
    "    - if run time function is $$f(n) = 7log(n)^3 + 15n^2 + 2n^3 + 8$$ then \"Big O\" of $f(n)$ is $$f(n) = O(n^3)$$\n"
   ]
  },
  {
   "cell_type": "markdown",
   "metadata": {},
   "source": [
    "*Ex 1*"
   ]
  },
  {
   "cell_type": "code",
   "execution_count": 1,
   "metadata": {
    "ExecuteTime": {
     "end_time": "2020-08-30T17:03:38.870100Z",
     "start_time": "2020-08-30T17:03:38.866099Z"
    }
   },
   "outputs": [],
   "source": [
    "# o(1) example\n",
    "# does NOT depend on input size. \n",
    "a = 1\n",
    "b = 2\n",
    "c = a + 3*b\n",
    "i = 0\n",
    "\n",
    "while i < 11:\n",
    "    i = i + 1"
   ]
  },
  {
   "cell_type": "markdown",
   "metadata": {},
   "source": [
    "In this next ex, $f(n) = n$, and $O(n) = O(n)$"
   ]
  },
  {
   "cell_type": "markdown",
   "metadata": {},
   "source": [
    "Ex 2"
   ]
  },
  {
   "cell_type": "code",
   "execution_count": 2,
   "metadata": {
    "ExecuteTime": {
     "end_time": "2020-08-30T17:03:38.886128Z",
     "start_time": "2020-08-30T17:03:38.872100Z"
    }
   },
   "outputs": [],
   "source": [
    "# O(n) example\n",
    "# runs in linear time at worst time.\n",
    "n = 100 # input size - variable\n",
    "i = 0 \n",
    "while i < n:\n",
    "    i = i + 1\n"
   ]
  },
  {
   "cell_type": "markdown",
   "metadata": {},
   "source": [
    "In this next ex, $f(n) = n / 3$ (think why), and $O(n) = O(n)$, since we ignoe multiplicative constants for big O. "
   ]
  },
  {
   "cell_type": "markdown",
   "metadata": {},
   "source": [
    "Ex 3"
   ]
  },
  {
   "cell_type": "code",
   "execution_count": 3,
   "metadata": {
    "ExecuteTime": {
     "end_time": "2020-08-30T17:03:38.897100Z",
     "start_time": "2020-08-30T17:03:38.888098Z"
    }
   },
   "outputs": [],
   "source": [
    "# O(n) example\n",
    "# runs in linear time at worst time.\n",
    "n = 100 # input size - variable\n",
    "i = 0 \n",
    "while i < n:\n",
    "    i = i + 3"
   ]
  },
  {
   "cell_type": "markdown",
   "metadata": {},
   "source": [
    "Remember to drop multiplicative constants, here is a situation where it is tempting not to, but you shoud:\n",
    "The following two code snippets run in $O(n)$"
   ]
  },
  {
   "cell_type": "markdown",
   "metadata": {},
   "source": [
    "Ex 5"
   ]
  },
  {
   "cell_type": "code",
   "execution_count": 4,
   "metadata": {
    "ExecuteTime": {
     "end_time": "2020-08-30T17:03:38.910100Z",
     "start_time": "2020-08-30T17:03:38.899099Z"
    }
   },
   "outputs": [],
   "source": [
    "# min and max 1 \n",
    "import sys\n",
    "\n",
    "arr = [1,2,3,4,5] # n = 5, input array\n",
    "\n",
    "max = sys.maxsize # maximum sequence length in python - analog to Interger.MAX_SIZE\n",
    "min = -sys.maxsize - 1 # minimum negative integer in Python\n",
    "\n",
    "for x in arr:\n",
    "    if x > max:\n",
    "        max = x\n",
    "        \n",
    "for x in arr:\n",
    "    if x < min:\n",
    "        min = x"
   ]
  },
  {
   "cell_type": "code",
   "execution_count": 5,
   "metadata": {
    "ExecuteTime": {
     "end_time": "2020-08-30T17:03:38.923098Z",
     "start_time": "2020-08-30T17:03:38.912100Z"
    }
   },
   "outputs": [],
   "source": [
    "# min and max 2\n",
    "import sys\n",
    "\n",
    "arr = [1,2,3,4,5] # n = 5, input array\n",
    "\n",
    "max = sys.maxsize # maximum sequence length in python - analog to Interger.MAX_SIZE\n",
    "min = -sys.maxsize - 1 # minimum negative integer in Python\n",
    "\n",
    "for x in arr:\n",
    "    if x > max:\n",
    "        max = x\n",
    "    if x < min:\n",
    "        min = x\n",
    "        "
   ]
  },
  {
   "cell_type": "markdown",
   "metadata": {},
   "source": [
    "Ex: 6\n",
    "\n",
    "What is the runtime of the snippet?"
   ]
  },
  {
   "cell_type": "code",
   "execution_count": 6,
   "metadata": {
    "ExecuteTime": {
     "end_time": "2020-08-30T17:03:38.943763Z",
     "start_time": "2020-08-30T17:03:38.925101Z"
    }
   },
   "outputs": [
    {
     "name": "stdout",
     "output_type": "stream",
     "text": [
      "15 and 120\n"
     ]
    }
   ],
   "source": [
    "arr = [1,2,3,4,5] # n = 5 is input\n",
    "sum = 0\n",
    "prod = 1\n",
    "\n",
    "for x in range(0, len(arr)):\n",
    "    sum = sum + arr[x]\n",
    "\n",
    "for x in range(0, len(arr)):\n",
    "    prod = prod * arr[x]\n",
    "    \n",
    "print(sum, \"and\", prod)"
   ]
  },
  {
   "cell_type": "markdown",
   "metadata": {},
   "source": [
    "Solution: Even though we are adding, multiplying, and going through the array twice, runtime $f(n) = n + n = 2n$ is $O(n)$. "
   ]
  },
  {
   "cell_type": "markdown",
   "metadata": {},
   "source": [
    "Ex 7\n",
    "\n",
    "Runtime of snippet?"
   ]
  },
  {
   "cell_type": "code",
   "execution_count": null,
   "metadata": {},
   "outputs": [],
   "source": []
  },
  {
   "cell_type": "markdown",
   "metadata": {},
   "source": [
    "### Amortized Time\n",
    "- Amortized time is the runtime describing a data structure that has a very \"bad\" run time every once in a while, but a different (better) run time in every other case. \n",
    "- Example of amortized time: an arrayList is a dynamically resizing array, so whenever it runs out of space, it creates a new array with twice the length of the current array. That means that every so often, adding an element to the ArrayLust takes $O(n)$ time, since it has to copy all n elements over to the new array. But the amortized time is $O(1)$ for appending an element to an ArrayList. "
   ]
  },
  {
   "cell_type": "markdown",
   "metadata": {},
   "source": [
    "### Recursive Runtimes\n"
   ]
  },
  {
   "cell_type": "markdown",
   "metadata": {},
   "source": [
    "Ex: What is the runtime of this code snippet?"
   ]
  },
  {
   "cell_type": "code",
   "execution_count": 7,
   "metadata": {
    "ExecuteTime": {
     "end_time": "2020-08-30T17:03:38.953765Z",
     "start_time": "2020-08-30T17:03:38.945766Z"
    }
   },
   "outputs": [],
   "source": [
    "n = 100 # initial input\n",
    "\n",
    "def f(n):\n",
    "    if n < 1:\n",
    "        return 1\n",
    "    return f(n - 1) + f(n - 1)"
   ]
  },
  {
   "cell_type": "markdown",
   "metadata": {},
   "source": [
    "Solution: Notice that with every single call to f, we are calling f twice until we hit n = 0. Thus, in an imaginary function call tree, we branch out into two branches at each call, and the total number of function calls is $2^0 + 2^1 + 2^2 + ... + 2^n = 2^{n+1}-1$. After dropping multiplicative constants, the run time is $O(2^n)$"
   ]
  },
  {
   "cell_type": "markdown",
   "metadata": {},
   "source": [
    "# Arrays :"
   ]
  },
  {
   "cell_type": "markdown",
   "metadata": {},
   "source": [
    "### Dynamic and Static Arrays"
   ]
  },
  {
   "cell_type": "markdown",
   "metadata": {},
   "source": [
    "### Dynamic Array Code"
   ]
  },
  {
   "cell_type": "markdown",
   "metadata": {},
   "source": [
    "# Linked Lists :"
   ]
  },
  {
   "cell_type": "markdown",
   "metadata": {},
   "source": [
    "### Linked Lists Intro"
   ]
  },
  {
   "cell_type": "markdown",
   "metadata": {},
   "source": [
    "### Doubly Linked List Code"
   ]
  },
  {
   "cell_type": "markdown",
   "metadata": {},
   "source": [
    "# Stack :"
   ]
  },
  {
   "cell_type": "markdown",
   "metadata": {},
   "source": [
    "### Stack Introduction"
   ]
  },
  {
   "cell_type": "markdown",
   "metadata": {},
   "source": [
    "### Stack Implementation"
   ]
  },
  {
   "cell_type": "markdown",
   "metadata": {},
   "source": [
    "### Stack Code"
   ]
  },
  {
   "cell_type": "markdown",
   "metadata": {},
   "source": [
    "# Queues :"
   ]
  },
  {
   "cell_type": "markdown",
   "metadata": {},
   "source": [
    "### Queue Introduction"
   ]
  },
  {
   "cell_type": "markdown",
   "metadata": {},
   "source": [
    "### Queue Code"
   ]
  },
  {
   "cell_type": "markdown",
   "metadata": {},
   "source": [
    "### Priority Queue Introduction"
   ]
  },
  {
   "cell_type": "markdown",
   "metadata": {},
   "source": [
    "### Priority Queve Min Heaps and Max Heaps"
   ]
  },
  {
   "cell_type": "markdown",
   "metadata": {},
   "source": [
    "### Priority Queue Inserting Elements"
   ]
  },
  {
   "cell_type": "markdown",
   "metadata": {},
   "source": [
    "### Priority Queue Removing Elemets"
   ]
  },
  {
   "cell_type": "markdown",
   "metadata": {},
   "source": [
    "### Priority Queue Code"
   ]
  },
  {
   "cell_type": "markdown",
   "metadata": {},
   "source": [
    "# Union Find : "
   ]
  },
  {
   "cell_type": "markdown",
   "metadata": {},
   "source": [
    "### Union Find Introduction"
   ]
  },
  {
   "cell_type": "markdown",
   "metadata": {},
   "source": [
    "### Union Find Kruskal's Algorithm"
   ]
  },
  {
   "cell_type": "markdown",
   "metadata": {},
   "source": [
    "### Union Find - Union Find Operations"
   ]
  },
  {
   "cell_type": "markdown",
   "metadata": {},
   "source": [
    "### Union Find Path Compression"
   ]
  },
  {
   "cell_type": "markdown",
   "metadata": {},
   "source": [
    "# Searching: "
   ]
  },
  {
   "cell_type": "markdown",
   "metadata": {},
   "source": [
    "## Depth - First Search:"
   ]
  },
  {
   "cell_type": "markdown",
   "metadata": {},
   "source": [
    "## Breadth - First Search:\n",
    "\n",
    "- Vertex based technique for finding shortest path in a GRAPH. \n",
    "\n",
    "- implemented using Queue (First In, First Out) to find shortest path. \n",
    "- one vertex is selected at a time, marked, then its adjacent vertex is visited, then stored in queue\n",
    "- not suitable for decision trees, since visits all neighbors first. \n",
    "\n",
    "#### Time Complexity:\n",
    "\n",
    "if V = number of vertices, E = number of edges, then $O(V + E)$ when adjacency list used, $O(V^2)$ when adjacency matrix is used. \n",
    "\n",
    "\n",
    "\n",
    "example problems:\n",
    "1. [Islands](https://leetcode.com/problems/number-of-islands/discuss/813511/DFS-and-BFS-with-Easy-Explanation)\n",
    "\n",
    "Sources:\n",
    "1. [GFG](https://www.geeksforgeeks.org/difference-between-bfs-and-dfs)\n"
   ]
  },
  {
   "cell_type": "markdown",
   "metadata": {},
   "source": [
    "# **Trees and Graphs** :\n",
    "## Tree Defintiion:\n",
    "*def* - for all types of trees:\n",
    "- each tree has a root (node)\n",
    "- root node has children $c \\geq 0$\n",
    "- each child $c$ has children $c_n \\geq 0$\n",
    "- No cycles. \n",
    "- nodes might or might not link back to parents. \n",
    "- nodes might or might not be in a particular order. \n",
    "- if node has no children, it is a \"leaf\""
   ]
  },
  {
   "cell_type": "code",
   "execution_count": 8,
   "metadata": {
    "ExecuteTime": {
     "end_time": "2020-08-30T17:03:38.964765Z",
     "start_time": "2020-08-30T17:03:38.955767Z"
    }
   },
   "outputs": [],
   "source": [
    "# tree definition:\n",
    "class Node:\n",
    "    # every node has a name and a children Node list\n",
    "    def __init__(self, name, nodes):\n",
    "        self.name = name\n",
    "        self.nodes = nodes"
   ]
  },
  {
   "cell_type": "code",
   "execution_count": 9,
   "metadata": {
    "ExecuteTime": {
     "end_time": "2020-08-30T17:03:38.975766Z",
     "start_time": "2020-08-30T17:03:38.966765Z"
    }
   },
   "outputs": [],
   "source": [
    "# optional - wrap Node with Tree class:\n",
    "class Tree:\n",
    "    def __init__(self, root : Node):\n",
    "        self.root = root"
   ]
  },
  {
   "cell_type": "markdown",
   "metadata": {},
   "source": [
    "## Types of Trees: \n",
    "### Binary *Search* Tree:\n",
    "\n",
    "def: \n",
    "\n",
    "- tree which is binary (2 children max per node) \n",
    "- ALL left descendants $\\leq$ n $<$ ALL right descendants\n",
    "\n",
    "ex: NOT a BST\n",
    "![not a bst](fig/img/no-BST.png)\n",
    "takeaway: ALWAYS make sure you are working with BST, or clarify what type of tree it is (binary, not search?)"
   ]
  },
  {
   "cell_type": "markdown",
   "metadata": {},
   "source": [
    "## Types of Trees: \n",
    "\n",
    "### Balanced VS Unbalanced Trees\n",
    "any type of tree can be balanced or unbalanced. \n",
    "- balanced $\\nRightarrow$ (does not imply) perfect tree (L and R subtrees exact same size)\n",
    "\n",
    "### Balanced Tree\n",
    "Operation Runtimes:\n",
    "- Insert : O(log n)\n",
    "- Find : O(log n)\n",
    "\n",
    "Examples:\n",
    "- Red-Black Trees\n",
    "- AVL Trees\n"
   ]
  },
  {
   "cell_type": "markdown",
   "metadata": {},
   "source": [
    "### Complete Binary Tree\n",
    "\n",
    "- every level is fully filled except last level\n",
    "- if last level is filed, it's filled to the right. \n"
   ]
  },
  {
   "cell_type": "markdown",
   "metadata": {},
   "source": [
    "### Full Binary Tree\n",
    "\n",
    "- every node has EITHER 2 OR 0 children. no 1-child nodes. "
   ]
  },
  {
   "cell_type": "markdown",
   "metadata": {},
   "source": [
    "### Perfect Binary Tree\n",
    "\n",
    "- has maximum number of nodes, each level is perfectly filled to the left and right. Left and right subtrees match. \n",
    "- has exactly $2^k - 1$ nodes, $k$ = number of levels. "
   ]
  },
  {
   "cell_type": "markdown",
   "metadata": {},
   "source": [
    "### Binary Tree Traversals:\n",
    "\n",
    "#### In Order (most common):\n",
    "\n",
    "- visit the left node, the current node, then the right node. \n",
    "- in BST, visits in ascending order. \n"
   ]
  },
  {
   "cell_type": "code",
   "execution_count": 12,
   "metadata": {
    "ExecuteTime": {
     "end_time": "2020-08-30T17:29:16.118561Z",
     "start_time": "2020-08-30T17:29:16.114531Z"
    }
   },
   "outputs": [],
   "source": [
    "# in order traversal of a tree\n",
    "def inOrderTraversal(node : Node):\n",
    "    if node != None:\n",
    "        # visit left\n",
    "        inOrderTraversal(node.left)\n",
    "        # visit current node\n",
    "        visitFunction(node)\n",
    "        # visit right node\n",
    "        inOrderTraversal(node.right)"
   ]
  },
  {
   "cell_type": "markdown",
   "metadata": {},
   "source": [
    "#### Pre Order\n",
    "\n",
    "- visits the current node before visiting its children. "
   ]
  },
  {
   "cell_type": "code",
   "execution_count": 13,
   "metadata": {
    "ExecuteTime": {
     "end_time": "2020-08-30T17:30:57.575369Z",
     "start_time": "2020-08-30T17:30:57.571368Z"
    }
   },
   "outputs": [],
   "source": [
    "# pre order traversal of a tree\n",
    "def preOrderTraversal(node : Node):\n",
    "    if node != None:\n",
    "        # visit current node\n",
    "        visitFunction(node)\n",
    "        # visit children\n",
    "        preOrderTraversal(node.left)\n",
    "        preOrderTraversal(node.right)"
   ]
  },
  {
   "cell_type": "markdown",
   "metadata": {},
   "source": [
    "#### Post Order"
   ]
  },
  {
   "cell_type": "markdown",
   "metadata": {},
   "source": [
    "### Binary Heaps (Min Heap, Max Heap)\n"
   ]
  },
  {
   "cell_type": "markdown",
   "metadata": {},
   "source": [
    "### Tries (Prefix Trees)"
   ]
  },
  {
   "cell_type": "markdown",
   "metadata": {},
   "source": [
    "## Graphs "
   ]
  }
 ],
 "metadata": {
  "kernelspec": {
   "display_name": "Python 3",
   "language": "python",
   "name": "python3"
  },
  "language_info": {
   "codemirror_mode": {
    "name": "ipython",
    "version": 3
   },
   "file_extension": ".py",
   "mimetype": "text/x-python",
   "name": "python",
   "nbconvert_exporter": "python",
   "pygments_lexer": "ipython3",
   "version": "3.8.3"
  }
 },
 "nbformat": 4,
 "nbformat_minor": 4
}
