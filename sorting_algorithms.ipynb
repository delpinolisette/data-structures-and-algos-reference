{
 "metadata": {
  "language_info": {
   "codemirror_mode": {
    "name": "ipython",
    "version": 3
   },
   "file_extension": ".py",
   "mimetype": "text/x-python",
   "name": "python",
   "nbconvert_exporter": "python",
   "pygments_lexer": "ipython3",
   "version": "3.8.3-final"
  },
  "orig_nbformat": 2,
  "kernelspec": {
   "name": "python3",
   "display_name": "Python 3",
   "language": "python"
  }
 },
 "nbformat": 4,
 "nbformat_minor": 2,
 "cells": [
  {
   "source": [
    "# Insertion Sort\n",
    "\n",
    "prototype for insertion sort is :\n",
    "\n",
    "input: a sequence of keys $a_1,...a_n$\n",
    "\n",
    "output: permutation/reordering of the input sequence so that $a_1 \\leq ... \\leq a_n$\n",
    "\n",
    "strategy: pick a single element, which creates a trivially sorted list, then sort the rest of the elements in comparison to what is already in the list. \n",
    "\n",
    "implementation pseudocode:\n",
    "\n",
    "```\n",
    "insertion_sort(items[], int n) {\n",
    "    int i;\n",
    "    int j; \n",
    "\n",
    "    for (i = 1; i < n; i++) {\n",
    "        j = i; \n",
    "        \n",
    "        // if this spot already sorted, move on to next spot. if not, swap the two iteratively\n",
    "        while ((j > 0) && (s[j] < s[j-1])) {\n",
    "            \n",
    "            swap(s[j], s[j-1]) {\n",
    "\n",
    "                j = j-1;\n",
    "\n",
    "            }\n",
    "        }\n",
    "    }\n",
    "    \n",
    "}\n",
    "\n",
    "```"
   ],
   "cell_type": "markdown",
   "metadata": {}
  },
  {
   "cell_type": "code",
   "execution_count": 7,
   "metadata": {},
   "outputs": [
    {
     "output_type": "stream",
     "name": "stdout",
     "text": [
      "at :  1\n2 1\nat :  2\n3 2\nat :  3\n"
     ]
    },
    {
     "output_type": "error",
     "ename": "IndexError",
     "evalue": "list index out of range",
     "traceback": [
      "\u001b[1;31m---------------------------------------------------------------------------\u001b[0m",
      "\u001b[1;31mIndexError\u001b[0m                                Traceback (most recent call last)",
      "\u001b[1;32m<ipython-input-7-3a91fa5a6342>\u001b[0m in \u001b[0;36m<module>\u001b[1;34m\u001b[0m\n\u001b[0;32m     19\u001b[0m \u001b[1;33m\u001b[0m\u001b[0m\n\u001b[0;32m     20\u001b[0m \u001b[1;33m\u001b[0m\u001b[0m\n\u001b[1;32m---> 21\u001b[1;33m \u001b[0minsertion_sort\u001b[0m\u001b[1;33m(\u001b[0m\u001b[1;33m[\u001b[0m\u001b[1;36m1\u001b[0m\u001b[1;33m,\u001b[0m\u001b[1;36m2\u001b[0m\u001b[1;33m,\u001b[0m\u001b[1;36m3\u001b[0m\u001b[1;33m]\u001b[0m\u001b[1;33m,\u001b[0m \u001b[1;36m4\u001b[0m\u001b[1;33m)\u001b[0m\u001b[1;33m\u001b[0m\u001b[1;33m\u001b[0m\u001b[0m\n\u001b[0m",
      "\u001b[1;32m<ipython-input-7-3a91fa5a6342>\u001b[0m in \u001b[0;36minsertion_sort\u001b[1;34m(s, n)\u001b[0m\n\u001b[0;32m      7\u001b[0m         \u001b[0mj\u001b[0m \u001b[1;33m=\u001b[0m \u001b[0mi\u001b[0m\u001b[1;33m\u001b[0m\u001b[1;33m\u001b[0m\u001b[0m\n\u001b[0;32m      8\u001b[0m \u001b[1;33m\u001b[0m\u001b[0m\n\u001b[1;32m----> 9\u001b[1;33m         \u001b[0mprint\u001b[0m\u001b[1;33m(\u001b[0m\u001b[0ms\u001b[0m\u001b[1;33m[\u001b[0m\u001b[0mj\u001b[0m\u001b[1;33m]\u001b[0m\u001b[1;33m,\u001b[0m \u001b[0ms\u001b[0m\u001b[1;33m[\u001b[0m\u001b[0mj\u001b[0m\u001b[1;33m-\u001b[0m\u001b[1;36m1\u001b[0m\u001b[1;33m]\u001b[0m\u001b[1;33m)\u001b[0m\u001b[1;33m\u001b[0m\u001b[1;33m\u001b[0m\u001b[0m\n\u001b[0m\u001b[0;32m     10\u001b[0m \u001b[1;33m\u001b[0m\u001b[0m\n\u001b[0;32m     11\u001b[0m         \u001b[1;32mwhile\u001b[0m\u001b[1;33m(\u001b[0m\u001b[1;33m(\u001b[0m\u001b[0mj\u001b[0m \u001b[1;33m>\u001b[0m \u001b[1;36m0\u001b[0m\u001b[1;33m)\u001b[0m \u001b[1;32mand\u001b[0m \u001b[1;33m(\u001b[0m\u001b[0ms\u001b[0m\u001b[1;33m[\u001b[0m\u001b[0mj\u001b[0m\u001b[1;33m]\u001b[0m \u001b[1;33m<\u001b[0m \u001b[0ms\u001b[0m\u001b[1;33m[\u001b[0m\u001b[0mj\u001b[0m\u001b[1;33m-\u001b[0m\u001b[1;36m1\u001b[0m\u001b[1;33m]\u001b[0m\u001b[1;33m)\u001b[0m\u001b[1;33m)\u001b[0m\u001b[1;33m:\u001b[0m\u001b[1;33m\u001b[0m\u001b[1;33m\u001b[0m\u001b[0m\n",
      "\u001b[1;31mIndexError\u001b[0m: list index out of range"
     ]
    }
   ],
   "source": [
    "# python implementation of insertion sort\n",
    "\n",
    "def insertion_sort(s: list, n) -> list:\n",
    "\n",
    "    for i in range(1, len(s)+1):\n",
    "        print(\"at : \", i)\n",
    "        j = i\n",
    "\n",
    "        print(s[j], s[j-1])\n",
    "\n",
    "        while((j > 0) and (s[j] < s[j-1])):\n",
    "            # swap s[j] and s[j-1]\n",
    "            print(\"pre-swap elemts are, s[j-1]: \",s[j-1],\n",
    "            \"and s[j]\", s[j])\n",
    "            temp = s[j]\n",
    "            tem_prev = s[j-1]\n",
    "            s[j] = temp_prev\n",
    "            s[j-1] = temp\n",
    "\n",
    "\n",
    "insertion_sort([1,2,3], 4)\n"
   ]
  },
  {
   "cell_type": "code",
   "execution_count": null,
   "metadata": {},
   "outputs": [],
   "source": []
  }
 ]
}