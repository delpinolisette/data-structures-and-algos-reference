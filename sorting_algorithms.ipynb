{
 "metadata": {
  "language_info": {
   "codemirror_mode": {
    "name": "ipython",
    "version": 3
   },
   "file_extension": ".py",
   "mimetype": "text/x-python",
   "name": "python",
   "nbconvert_exporter": "python",
   "pygments_lexer": "ipython3",
   "version": "3.8.3-final"
  },
  "orig_nbformat": 2,
  "kernelspec": {
   "name": "python3",
   "display_name": "Python 3",
   "language": "python"
  }
 },
 "nbformat": 4,
 "nbformat_minor": 2,
 "cells": [
  {
   "source": [
    "# Insertion Sort\n",
    "\n",
    "prototype for insertion sort is :\n",
    "\n",
    "input: a sequence of keys $a_1,...a_n$\n",
    "\n",
    "output: permutation/reordering of the input sequence so that $a_1 \\leq ... \\leq a_n$\n",
    "\n",
    "strategy: pick a single element, which creates a trivially sorted list, then sort the rest of the elements in comparison to what is already in the list. \n",
    "\n",
    "implementation pseudocode:\n",
    "\n",
    "```\n",
    "insertion_sort(items[], int n) {\n",
    "    int i;\n",
    "    int j; \n",
    "\n",
    "    for (i = 1; i < n; i++) {\n",
    "        j = i; \n",
    "        \n",
    "        // if this spot already sorted, move on to next spot. if not, swap the two iteratively\n",
    "        while ((j > 0) && (s[j] < s[j-1])) {\n",
    "            \n",
    "            swap(s[j], s[j-1]) {\n",
    "\n",
    "                j = j-1;\n",
    "\n",
    "            }\n",
    "        }\n",
    "    }\n",
    "    \n",
    "}\n",
    "\n",
    "```"
   ],
   "cell_type": "markdown",
   "metadata": {}
  },
  {
   "cell_type": "code",
   "execution_count": 7,
   "metadata": {},
   "outputs": [
    {
     "output_type": "execute_result",
     "data": {
      "text/plain": [
       "[0, 1, 2, 3, 6]"
      ]
     },
     "metadata": {},
     "execution_count": 7
    }
   ],
   "source": [
    "# python implementation of insertion sort\n",
    "\n",
    "def insertion_sort(s: list, n) -> list:\n",
    "\n",
    "    for i in range(len(s)):\n",
    "        #print(\"at : \", i)\n",
    "        j = i\n",
    "\n",
    "        #print(\"s[j] and s[j-1] are : \",s[j], s[j-1])\n",
    "\n",
    "        while((j > 0) and (s[j] < s[j-1])):\n",
    "            # swap s[j] and s[j-1]\n",
    "            #print(\"pre-swap elemts are, s[j-1]: \",s[j-1],\"and s[j]\", s[j])\n",
    "            temp = s[j]\n",
    "            temp_prev = s[j-1]\n",
    "            s[j] = temp_prev\n",
    "            s[j-1] = temp\n",
    "            #print(\"post-swap elemts are, s[j-1]: \",s[j-1],\"and s[j]\", s[j])\n",
    "            j=j-1 # critical step\n",
    "    return s\n",
    "        \n",
    "\n",
    "\n",
    "insertion_sort([1,2,3,0,6], 4)\n"
   ]
  },
  {
   "source": [
    "# Selection Sort\n",
    "\n",
    "Solves the same problem as insertion sort by repeatedly extracting the smallest element in the set from an unsorted set (the remaining unsorted section of the set)\n",
    "\n",
    "Implementation Pseudocode:\n",
    "\n",
    "```\n",
    "function SelectionSort(A){\n",
    "    for (i = 1 to i = n) do {\n",
    "        Sort[i] = Find Minimum in A\n",
    "        Delete Minimum from A \n",
    "    Return(Sort)\n",
    "    }\n",
    "}\n",
    "```\n"
   ],
   "cell_type": "markdown",
   "metadata": {}
  },
  {
   "source": [
    "def selection_sort(l:list) -> list:\n",
    "    sorted = []\n",
    "    min_value = None\n",
    "\n",
    "    for i in range(len(l)-1):\n",
    "        print(\"at i= : \",i, \"with list[i] = : \", l[i])\n",
    "        min_value = l[i]\n",
    "\n",
    "        for j in range(i+1, len(l)-1):\n",
    "            print(\"at j= : \",j, \"with list[j] = : \", l[j])\n",
    "            if l[j] < min_value:\n",
    "                print(\"found a smaller val : \", l[j])\n",
    "                min_value = l[j] # so if any in the rest of the array\n",
    "\n",
    "        sorted.append(min_value)\n",
    "        l.remove(min_value)\n",
    "    return sorted\n",
    "\n",
    "selection_sort([1,2,4,5,6,0])\n",
    "\n"
   ],
   "cell_type": "code",
   "metadata": {},
   "execution_count": 22,
   "outputs": [
    {
     "output_type": "stream",
     "name": "stdout",
     "text": [
      "at i= :  0 with list[i] = :  1\nat j= :  1 with list[j] = :  2\nat j= :  2 with list[j] = :  4\nat j= :  3 with list[j] = :  5\nat j= :  4 with list[j] = :  6\nat i= :  1 with list[i] = :  4\nat j= :  2 with list[j] = :  5\nat j= :  3 with list[j] = :  6\nat i= :  2 with list[i] = :  6\n"
     ]
    },
    {
     "output_type": "error",
     "ename": "IndexError",
     "evalue": "list index out of range",
     "traceback": [
      "\u001b[1;31m---------------------------------------------------------------------------\u001b[0m",
      "\u001b[1;31mIndexError\u001b[0m                                Traceback (most recent call last)",
      "\u001b[1;32m<ipython-input-22-d6c6893c5f8f>\u001b[0m in \u001b[0;36m<module>\u001b[1;34m\u001b[0m\n\u001b[0;32m     17\u001b[0m     \u001b[1;32mreturn\u001b[0m \u001b[0msorted\u001b[0m\u001b[1;33m\u001b[0m\u001b[1;33m\u001b[0m\u001b[0m\n\u001b[0;32m     18\u001b[0m \u001b[1;33m\u001b[0m\u001b[0m\n\u001b[1;32m---> 19\u001b[1;33m \u001b[0mselection_sort\u001b[0m\u001b[1;33m(\u001b[0m\u001b[1;33m[\u001b[0m\u001b[1;36m1\u001b[0m\u001b[1;33m,\u001b[0m\u001b[1;36m2\u001b[0m\u001b[1;33m,\u001b[0m\u001b[1;36m4\u001b[0m\u001b[1;33m,\u001b[0m\u001b[1;36m5\u001b[0m\u001b[1;33m,\u001b[0m\u001b[1;36m6\u001b[0m\u001b[1;33m,\u001b[0m\u001b[1;36m0\u001b[0m\u001b[1;33m]\u001b[0m\u001b[1;33m)\u001b[0m\u001b[1;33m\u001b[0m\u001b[1;33m\u001b[0m\u001b[0m\n\u001b[0m\u001b[0;32m     20\u001b[0m \u001b[1;33m\u001b[0m\u001b[0m\n",
      "\u001b[1;32m<ipython-input-22-d6c6893c5f8f>\u001b[0m in \u001b[0;36mselection_sort\u001b[1;34m(l)\u001b[0m\n\u001b[0;32m      4\u001b[0m \u001b[1;33m\u001b[0m\u001b[0m\n\u001b[0;32m      5\u001b[0m     \u001b[1;32mfor\u001b[0m \u001b[0mi\u001b[0m \u001b[1;32min\u001b[0m \u001b[0mrange\u001b[0m\u001b[1;33m(\u001b[0m\u001b[0mlen\u001b[0m\u001b[1;33m(\u001b[0m\u001b[0ml\u001b[0m\u001b[1;33m)\u001b[0m\u001b[1;33m-\u001b[0m\u001b[1;36m1\u001b[0m\u001b[1;33m)\u001b[0m\u001b[1;33m:\u001b[0m\u001b[1;33m\u001b[0m\u001b[1;33m\u001b[0m\u001b[0m\n\u001b[1;32m----> 6\u001b[1;33m         \u001b[0mprint\u001b[0m\u001b[1;33m(\u001b[0m\u001b[1;34m\"at i= : \"\u001b[0m\u001b[1;33m,\u001b[0m\u001b[0mi\u001b[0m\u001b[1;33m,\u001b[0m \u001b[1;34m\"with list[i] = : \"\u001b[0m\u001b[1;33m,\u001b[0m \u001b[0ml\u001b[0m\u001b[1;33m[\u001b[0m\u001b[0mi\u001b[0m\u001b[1;33m]\u001b[0m\u001b[1;33m)\u001b[0m\u001b[1;33m\u001b[0m\u001b[1;33m\u001b[0m\u001b[0m\n\u001b[0m\u001b[0;32m      7\u001b[0m         \u001b[0mmin_value\u001b[0m \u001b[1;33m=\u001b[0m \u001b[0ml\u001b[0m\u001b[1;33m[\u001b[0m\u001b[0mi\u001b[0m\u001b[1;33m]\u001b[0m\u001b[1;33m\u001b[0m\u001b[1;33m\u001b[0m\u001b[0m\n\u001b[0;32m      8\u001b[0m \u001b[1;33m\u001b[0m\u001b[0m\n",
      "\u001b[1;31mIndexError\u001b[0m: list index out of range"
     ]
    }
   ]
  }
 ]
}