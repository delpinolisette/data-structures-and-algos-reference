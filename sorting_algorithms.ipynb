{
 "metadata": {
  "language_info": {
   "codemirror_mode": {
    "name": "ipython",
    "version": 3
   },
   "file_extension": ".py",
   "mimetype": "text/x-python",
   "name": "python",
   "nbconvert_exporter": "python",
   "pygments_lexer": "ipython3",
   "version": "3.8.3-final"
  },
  "orig_nbformat": 2,
  "kernelspec": {
   "name": "python3",
   "display_name": "Python 3",
   "language": "python"
  }
 },
 "nbformat": 4,
 "nbformat_minor": 2,
 "cells": [
  {
   "source": [
    "# Insertion Sort\n",
    "\n",
    "prototype for insertion sort is :\n",
    "\n",
    "input: a sequence of keys $a_1,...a_n$\n",
    "\n",
    "output: permutation/reordering of the input sequence so that $a_1 \\leq ... \\leq a_n$\n",
    "\n",
    "strategy: pick a single element, which creates a trivially sorted list, then sort the rest of the elements in comparison to what is already in the list. \n",
    "\n",
    "implementation pseudocode:\n",
    "\n",
    "```\n",
    "insertion_sort(items[], int n) {\n",
    "    int i;\n",
    "    int j; \n",
    "\n",
    "    for (i = 1; i < n; i++) {\n",
    "        j = i; \n",
    "        \n",
    "        // if this spot already sorted, move on to next spot. if not, swap the two iteratively\n",
    "        while ((j > 0) && (s[j] < s[j-1])) {\n",
    "            \n",
    "            swap(s[j], s[j-1]) {\n",
    "\n",
    "                j = j-1;\n",
    "\n",
    "            }\n",
    "        }\n",
    "    }\n",
    "    \n",
    "}\n",
    "\n",
    "```"
   ],
   "cell_type": "markdown",
   "metadata": {}
  },
  {
   "cell_type": "code",
   "execution_count": 7,
   "metadata": {},
   "outputs": [
    {
     "output_type": "execute_result",
     "data": {
      "text/plain": [
       "[0, 1, 2, 3, 6]"
      ]
     },
     "metadata": {},
     "execution_count": 7
    }
   ],
   "source": [
    "# python implementation of insertion sort\n",
    "\n",
    "def insertion_sort(s: list, n) -> list:\n",
    "\n",
    "    for i in range(len(s)):\n",
    "        #print(\"at : \", i)\n",
    "        j = i\n",
    "\n",
    "        #print(\"s[j] and s[j-1] are : \",s[j], s[j-1])\n",
    "\n",
    "        while((j > 0) and (s[j] < s[j-1])):\n",
    "            # swap s[j] and s[j-1]\n",
    "            #print(\"pre-swap elemts are, s[j-1]: \",s[j-1],\"and s[j]\", s[j])\n",
    "            temp = s[j]\n",
    "            temp_prev = s[j-1]\n",
    "            s[j] = temp_prev\n",
    "            s[j-1] = temp\n",
    "            #print(\"post-swap elemts are, s[j-1]: \",s[j-1],\"and s[j]\", s[j])\n",
    "            j=j-1 # critical step\n",
    "    return s\n",
    "        \n",
    "\n",
    "\n",
    "insertion_sort([1,2,3,0,6], 4)\n"
   ]
  },
  {
   "source": [
    "# Selection Sort\n",
    "\n",
    "Solves the same problem as insertion sort by repeatedly extracting the smallest element in the set from an unsorted set (the remaining unsorted section of the set)\n",
    "\n",
    "Implementation Pseudocode:\n",
    "\n",
    "```\n",
    "function SelectionSort(A){\n",
    "    for (i = 1 to i = n) do {\n",
    "        Sort[i] = Find Minimum in A\n",
    "        Delete Minimum from A \n",
    "    Return(Sort)\n",
    "    }\n",
    "}\n",
    "```\n"
   ],
   "cell_type": "markdown",
   "metadata": {}
  },
  {
   "source": [
    "def selection_sort(l:list) -> list:\n",
    "    sorted = []\n",
    "    min_value = None\n",
    "\n",
    "    for i in range(0,len(l)):\n",
    "        #print(\"at i= : \",i)\n",
    "        #print(\"at i= : \",i, \"with list[i] = : \", l[i])\n",
    "        min_index = i\n",
    "\n",
    "        for j in range(i+1,len(l)):\n",
    "            #print(\"at j= : \",j, \"with list[j] = : \", l[j])\n",
    "            #print(\"at j= : \",j)\n",
    "            if l[j] < l[min_index]:\n",
    "                #print(\"found a smaller val : \", l[j], \"at : \", j)\n",
    "                min_index = j # so if any in the rest of the array\n",
    "                \n",
    "        # now swap min value item with the first unsorted item to modify array in place\n",
    "        # this is trick to modifying in place\n",
    "        temp = l[i]\n",
    "        temp_min = l[min_index]\n",
    "        l[i] = temp_min\n",
    "        l[min_index]= temp\n",
    "        \n",
    "    return l\n",
    "\n",
    "\n",
    "# test\n",
    "selection_sort([1,2,4,5,6,-9,0])\n",
    "\n"
   ],
   "cell_type": "code",
   "metadata": {},
   "execution_count": 1,
   "outputs": [
    {
     "output_type": "execute_result",
     "data": {
      "text/plain": [
       "[-9, 0, 1, 2, 4, 5, 6]"
      ]
     },
     "metadata": {},
     "execution_count": 1
    }
   ]
  },
  {
   "cell_type": "code",
   "execution_count": null,
   "metadata": {},
   "outputs": [],
   "source": []
  }
 ]
}