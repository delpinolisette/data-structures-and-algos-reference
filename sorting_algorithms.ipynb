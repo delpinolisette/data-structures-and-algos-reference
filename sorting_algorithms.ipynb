{
 "metadata": {
  "language_info": {
   "codemirror_mode": {
    "name": "ipython",
    "version": 3
   },
   "file_extension": ".py",
   "mimetype": "text/x-python",
   "name": "python",
   "nbconvert_exporter": "python",
   "pygments_lexer": "ipython3",
   "version": 3
  },
  "orig_nbformat": 2
 },
 "nbformat": 4,
 "nbformat_minor": 2,
 "cells": [
  {
   "source": [
    "# Insertion Sort\n",
    "\n",
    "prototype for insertion sort is :\n",
    "\n",
    "input: a sequence of keys $a_1,...a_n$\n",
    "\n",
    "output: permutation/reordering of the input sequence so that $a_1 \\leq ... \\leq a_n$\n",
    "\n",
    "strategy: pick a single element, which creates a trivially sorted list, then sort the rest of the elements in comparison to what is already in the list. \n",
    "\n",
    "implementation pseudocode:\n",
    "\n",
    "```\n",
    "insertion_sort(items[], int n) {\n",
    "    int i;\n",
    "    int j; \n",
    "\n",
    "    for (i = 1; i < n; i++) {\n",
    "        j = i; \n",
    "        \n",
    "        // if this spot already sorted, move on to next spot. if not, swap the two iteratively\n",
    "        while ((j > 0) && (s[j] < s[j-1])) {\n",
    "            \n",
    "            swap(s[j], s[j-1]) {\n",
    "\n",
    "                j = j-1;\n",
    "\n",
    "            }\n",
    "        }\n",
    "    }\n",
    "    \n",
    "}\n",
    "\n",
    "```"
   ],
   "cell_type": "markdown",
   "metadata": {}
  },
  {
   "cell_type": "code",
   "execution_count": null,
   "metadata": {},
   "outputs": [],
   "source": [
    "# python implementation of insertion sort\n",
    "\n",
    "def insertion_sort(list: s, int: n) -> list:\n",
    "    "
   ]
  }
 ]
}