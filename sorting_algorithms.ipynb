{
 "metadata": {
  "language_info": {
   "codemirror_mode": {
    "name": "ipython",
    "version": 3
   },
   "file_extension": ".py",
   "mimetype": "text/x-python",
   "name": "python",
   "nbconvert_exporter": "python",
   "pygments_lexer": "ipython3",
   "version": "3.8.3-final"
  },
  "orig_nbformat": 2,
  "kernelspec": {
   "name": "python3",
   "display_name": "Python 3",
   "language": "python"
  }
 },
 "nbformat": 4,
 "nbformat_minor": 2,
 "cells": [
  {
   "source": [
    "# Insertion Sort\n",
    "\n",
    "prototype for insertion sort is :\n",
    "\n",
    "input: a sequence of keys $a_1,...a_n$\n",
    "\n",
    "output: permutation/reordering of the input sequence so that $a_1 \\leq ... \\leq a_n$\n",
    "\n",
    "strategy: pick a single element, which creates a trivially sorted list, then sort the rest of the elements in comparison to what is already in the list. \n",
    "\n",
    "implementation pseudocode:\n",
    "\n",
    "```\n",
    "insertion_sort(items[], int n) {\n",
    "    int i;\n",
    "    int j; \n",
    "\n",
    "    for (i = 1; i < n; i++) {\n",
    "        j = i; \n",
    "        \n",
    "        // if this spot already sorted, move on to next spot. if not, swap the two iteratively\n",
    "        while ((j > 0) && (s[j] < s[j-1])) {\n",
    "            \n",
    "            swap(s[j], s[j-1]) {\n",
    "\n",
    "                j = j-1;\n",
    "\n",
    "            }\n",
    "        }\n",
    "    }\n",
    "    \n",
    "}\n",
    "\n",
    "```"
   ],
   "cell_type": "markdown",
   "metadata": {}
  },
  {
   "cell_type": "code",
   "execution_count": 5,
   "metadata": {},
   "outputs": [
    {
     "output_type": "stream",
     "name": "stdout",
     "text": [
      "at :  0\ns[j] and s[j-1] are :  1 0\nat :  1\ns[j] and s[j-1] are :  2 1\nat :  2\ns[j] and s[j-1] are :  3 2\nat :  3\ns[j] and s[j-1] are :  0 3\npre-swap elemts are, s[j-1]:  3 and s[j] 0\npost-swap elemts are, s[j-1]:  0 and s[j] 3\npre-swap elemts are, s[j-1]:  2 and s[j] 0\npost-swap elemts are, s[j-1]:  0 and s[j] 2\npre-swap elemts are, s[j-1]:  1 and s[j] 0\npost-swap elemts are, s[j-1]:  0 and s[j] 1\n"
     ]
    },
    {
     "output_type": "execute_result",
     "data": {
      "text/plain": [
       "[0, 1, 2, 3]"
      ]
     },
     "metadata": {},
     "execution_count": 5
    }
   ],
   "source": [
    "# python implementation of insertion sort\n",
    "\n",
    "def insertion_sort(s: list, n) -> list:\n",
    "\n",
    "    for i in range(len(s)):\n",
    "        #print(\"at : \", i)\n",
    "        j = i\n",
    "\n",
    "        #print(\"s[j] and s[j-1] are : \",s[j], s[j-1])\n",
    "\n",
    "        while((j > 0) and (s[j] < s[j-1])):\n",
    "            # swap s[j] and s[j-1]\n",
    "            #print(\"pre-swap elemts are, s[j-1]: \",s[j-1],\"and s[j]\", s[j])\n",
    "            temp = s[j]\n",
    "            temp_prev = s[j-1]\n",
    "            s[j] = temp_prev\n",
    "            s[j-1] = temp\n",
    "            #print(\"post-swap elemts are, s[j-1]: \",s[j-1],\"and s[j]\", s[j])\n",
    "            j=j-1 # critical step\n",
    "    return s\n",
    "        \n",
    "\n",
    "\n",
    "insertion_sort([1,2,3,0], 4)\n"
   ]
  },
  {
   "source": [],
   "cell_type": "markdown",
   "metadata": {}
  }
 ]
}